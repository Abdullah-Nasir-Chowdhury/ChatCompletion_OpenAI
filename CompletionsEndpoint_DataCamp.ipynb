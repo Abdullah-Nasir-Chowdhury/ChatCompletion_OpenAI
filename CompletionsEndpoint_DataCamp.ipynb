{
 "cells": [
  {
   "cell_type": "markdown",
   "id": "16079725",
   "metadata": {},
   "source": [
    "# Setup"
   ]
  },
  {
   "cell_type": "code",
   "execution_count": 1,
   "id": "723d826a",
   "metadata": {},
   "outputs": [],
   "source": [
    "import openai\n",
    "import dotenv"
   ]
  },
  {
   "cell_type": "code",
   "execution_count": 2,
   "id": "420f9893",
   "metadata": {},
   "outputs": [
    {
     "data": {
      "text/plain": [
       "True"
      ]
     },
     "execution_count": 2,
     "metadata": {},
     "output_type": "execute_result"
    }
   ],
   "source": [
    "from dotenv import main\n",
    "main.load_dotenv()"
   ]
  },
  {
   "cell_type": "code",
   "execution_count": 3,
   "id": "7331c371",
   "metadata": {},
   "outputs": [],
   "source": [
    "import os"
   ]
  },
  {
   "cell_type": "code",
   "execution_count": 4,
   "id": "057bdacc",
   "metadata": {},
   "outputs": [],
   "source": [
    "openai.api_key = os.getenv(\"OPENAI_API_KEY\")"
   ]
  },
  {
   "cell_type": "markdown",
   "id": "42b80192",
   "metadata": {},
   "source": [
    "### Send Request and Get Response"
   ]
  },
  {
   "cell_type": "code",
   "execution_count": 5,
   "id": "ad6c45ec",
   "metadata": {},
   "outputs": [
    {
     "name": "stdout",
     "output_type": "stream",
     "text": [
      "{\n",
      "  \"id\": \"cmpl-8Cw51VVJQa3N2cfGVJwrKngmb60Jh\",\n",
      "  \"object\": \"text_completion\",\n",
      "  \"created\": 1698093887,\n",
      "  \"model\": \"gpt-3.5-turbo-instruct\",\n",
      "  \"choices\": [\n",
      "    {\n",
      "      \"text\": \" I have been protecting Gotham City for many years now. I was orphaned as\",\n",
      "      \"index\": 0,\n",
      "      \"logprobs\": null,\n",
      "      \"finish_reason\": \"length\"\n",
      "    }\n",
      "  ],\n",
      "  \"usage\": {\n",
      "    \"prompt_tokens\": 4,\n",
      "    \"completion_tokens\": 16,\n",
      "    \"total_tokens\": 20\n",
      "  }\n",
      "}\n"
     ]
    }
   ],
   "source": [
    "response = openai.Completion.create(\n",
    "    model = \"gpt-3.5-turbo-instruct\",\n",
    "    prompt = \"I am Batman.\"\n",
    ")\n",
    "print(response)"
   ]
  },
  {
   "cell_type": "markdown",
   "id": "267c846f",
   "metadata": {},
   "source": [
    "### Extract the text"
   ]
  },
  {
   "cell_type": "code",
   "execution_count": 6,
   "id": "9f11cc7f",
   "metadata": {},
   "outputs": [
    {
     "name": "stdout",
     "output_type": "stream",
     "text": [
      "[<OpenAIObject at 0x1efe5ae7270> JSON: {\n",
      "  \"text\": \" I have been protecting Gotham City for many years now. I was orphaned as\",\n",
      "  \"index\": 0,\n",
      "  \"logprobs\": null,\n",
      "  \"finish_reason\": \"length\"\n",
      "}]\n"
     ]
    }
   ],
   "source": [
    "print(response[\"choices\"])"
   ]
  },
  {
   "cell_type": "code",
   "execution_count": 7,
   "id": "2cb4690a",
   "metadata": {},
   "outputs": [
    {
     "name": "stdout",
     "output_type": "stream",
     "text": [
      "{\n",
      "  \"text\": \" I have been protecting Gotham City for many years now. I was orphaned as\",\n",
      "  \"index\": 0,\n",
      "  \"logprobs\": null,\n",
      "  \"finish_reason\": \"length\"\n",
      "}\n"
     ]
    }
   ],
   "source": [
    "print(response[\"choices\"][0])"
   ]
  },
  {
   "cell_type": "code",
   "execution_count": 8,
   "id": "f4eb4790",
   "metadata": {},
   "outputs": [
    {
     "name": "stdout",
     "output_type": "stream",
     "text": [
      " I have been protecting Gotham City for many years now. I was orphaned as\n"
     ]
    }
   ],
   "source": [
    "print(response[\"choices\"][0][\"text\"])"
   ]
  },
  {
   "cell_type": "markdown",
   "id": "72542629",
   "metadata": {},
   "source": [
    "### Extract tokens used:"
   ]
  },
  {
   "cell_type": "code",
   "execution_count": 9,
   "id": "f8ada33f",
   "metadata": {},
   "outputs": [
    {
     "name": "stdout",
     "output_type": "stream",
     "text": [
      "{\n",
      "  \"id\": \"cmpl-8Cw51VVJQa3N2cfGVJwrKngmb60Jh\",\n",
      "  \"object\": \"text_completion\",\n",
      "  \"created\": 1698093887,\n",
      "  \"model\": \"gpt-3.5-turbo-instruct\",\n",
      "  \"choices\": [\n",
      "    {\n",
      "      \"text\": \" I have been protecting Gotham City for many years now. I was orphaned as\",\n",
      "      \"index\": 0,\n",
      "      \"logprobs\": null,\n",
      "      \"finish_reason\": \"length\"\n",
      "    }\n",
      "  ],\n",
      "  \"usage\": {\n",
      "    \"prompt_tokens\": 4,\n",
      "    \"completion_tokens\": 16,\n",
      "    \"total_tokens\": 20\n",
      "  }\n",
      "}\n"
     ]
    }
   ],
   "source": [
    "print(response)"
   ]
  },
  {
   "cell_type": "code",
   "execution_count": 10,
   "id": "4d43fe93",
   "metadata": {},
   "outputs": [
    {
     "name": "stdout",
     "output_type": "stream",
     "text": [
      "{\n",
      "  \"prompt_tokens\": 4,\n",
      "  \"completion_tokens\": 16,\n",
      "  \"total_tokens\": 20\n",
      "}\n"
     ]
    }
   ],
   "source": [
    "print(response[\"usage\"])"
   ]
  },
  {
   "cell_type": "code",
   "execution_count": 11,
   "id": "463c69f6",
   "metadata": {},
   "outputs": [
    {
     "name": "stdout",
     "output_type": "stream",
     "text": [
      "4\n"
     ]
    }
   ],
   "source": [
    "print(response[\"usage\"][\"prompt_tokens\"])"
   ]
  },
  {
   "cell_type": "code",
   "execution_count": 12,
   "id": "1e2df1a4",
   "metadata": {},
   "outputs": [
    {
     "name": "stdout",
     "output_type": "stream",
     "text": [
      "16\n"
     ]
    }
   ],
   "source": [
    "print(response[\"usage\"][\"completion_tokens\"])"
   ]
  },
  {
   "cell_type": "code",
   "execution_count": 13,
   "id": "d2055f92",
   "metadata": {},
   "outputs": [
    {
     "name": "stdout",
     "output_type": "stream",
     "text": [
      "20\n"
     ]
    }
   ],
   "source": [
    "print(response[\"usage\"][\"total_tokens\"])"
   ]
  },
  {
   "cell_type": "markdown",
   "id": "36861b42",
   "metadata": {},
   "source": [
    "### Extract information about the model:"
   ]
  },
  {
   "cell_type": "code",
   "execution_count": 14,
   "id": "9cc0d6c5",
   "metadata": {},
   "outputs": [
    {
     "name": "stdout",
     "output_type": "stream",
     "text": [
      "gpt-3.5-turbo-instruct\n"
     ]
    }
   ],
   "source": [
    "print(response[\"model\"])"
   ]
  },
  {
   "cell_type": "code",
   "execution_count": null,
   "id": "a56cf408",
   "metadata": {},
   "outputs": [],
   "source": []
  }
 ],
 "metadata": {
  "kernelspec": {
   "display_name": "Python 3 (ipykernel)",
   "language": "python",
   "name": "python3"
  },
  "language_info": {
   "codemirror_mode": {
    "name": "ipython",
    "version": 3
   },
   "file_extension": ".py",
   "mimetype": "text/x-python",
   "name": "python",
   "nbconvert_exporter": "python",
   "pygments_lexer": "ipython3",
   "version": "3.9.12"
  }
 },
 "nbformat": 4,
 "nbformat_minor": 5
}
