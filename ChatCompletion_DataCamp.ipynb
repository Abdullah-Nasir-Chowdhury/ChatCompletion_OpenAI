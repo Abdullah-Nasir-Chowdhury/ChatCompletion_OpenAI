{
 "cells": [
  {
   "cell_type": "markdown",
   "id": "1cdcda79",
   "metadata": {},
   "source": [
    "# Setup the environment"
   ]
  },
  {
   "cell_type": "code",
   "execution_count": 2,
   "id": "296c70d4",
   "metadata": {},
   "outputs": [],
   "source": [
    "import os, openai, dotenv\n",
    "from dotenv import main\n"
   ]
  },
  {
   "cell_type": "markdown",
   "id": "0005f7a9",
   "metadata": {},
   "source": [
    "# Set your API key"
   ]
  },
  {
   "cell_type": "code",
   "execution_count": 3,
   "id": "0b045be9",
   "metadata": {},
   "outputs": [],
   "source": [
    "openai.api_key = os.getenv(\"OPENAI_API_KEY\")"
   ]
  },
  {
   "cell_type": "markdown",
   "id": "3a70ff5c",
   "metadata": {},
   "source": [
    "# Create a request to the ChatCompletion endpoint"
   ]
  },
  {
   "cell_type": "code",
   "execution_count": null,
   "id": "fc796697",
   "metadata": {},
   "outputs": [],
   "source": [
    "response = openai.ChatCompletion.create(\n",
    "  model=\"gpt-3.5-turbo\",\n",
    "  messages=[\n",
    "    {\"role\": \"system\",\n",
    "     \"content\": \"You are a helpful data science tutor.\"},\n",
    "    {\"role\": \"user\",\n",
    "    \"content\": \"What is the difference between numpy and scipy?\"},\n",
    "  ]\n",
    ")\n"
   ]
  },
  {
   "cell_type": "markdown",
   "id": "14713671",
   "metadata": {},
   "source": [
    "# Extract and print the assistant's text response"
   ]
  },
  {
   "cell_type": "code",
   "execution_count": null,
   "id": "a26a06c5",
   "metadata": {},
   "outputs": [],
   "source": [
    "print(response.choices[0].message[\"content\"])"
   ]
  },
  {
   "cell_type": "markdown",
   "id": "f04fd0b0",
   "metadata": {},
   "source": [
    "# Create instructions"
   ]
  },
  {
   "cell_type": "code",
   "execution_count": null,
   "id": "c8c4e70a",
   "metadata": {},
   "outputs": [],
   "source": [
    "instruction = \"\"\"Explain what this Python code does in one sentence:\n",
    "import numpy as np\n",
    "\n",
    "heights_dict = {\"Mark\": 1.76, \"Steve\": 1.88, \"Adnan\": 1.73}\n",
    "heights = heights_dict.values()\n",
    "print(np.mean(heights))\n",
    "\"\"\"\n",
    "\n",
    "# Create a request to the ChatCompletion endpoint\n",
    "response = openai.ChatCompletion.create(\n",
    "  model=\"gpt-3.5-turbo\",\n",
    "  messages = [{ \"role\":\"system\", \"content\":\"You are a Python Code Instructor\",\n",
    "                \"role\":\"user\",\"content\":instruction\n",
    "              }],\n",
    "  max_tokens=100\n",
    ")\n",
    "\n",
    "print(response['choices'][0]['message']['content'])"
   ]
  },
  {
   "cell_type": "markdown",
   "id": "99d360ca",
   "metadata": {},
   "source": [
    "# Multi-turn Chat Completion with ChatGPT"
   ]
  },
  {
   "cell_type": "code",
   "execution_count": null,
   "id": "da755975",
   "metadata": {},
   "outputs": [],
   "source": [
    "response = openai.ChatCompletion.create(\n",
    "   model=\"gpt-3.5-turbo\",\n",
    "   # Add a user and assistant message for in-context learning\n",
    "   messages=[\n",
    "     {\"role\": \"system\", \"content\": \"You are a helpful Python programming tutor.\"},\n",
    "     {\"role\": \"user\", \"content\": \"What type of language is Python?\"},\n",
    "     {\"role\": \"assistant\", \"content\": \"Python is an object oriented language.\"},\n",
    "     {\"role\": \"user\", \"content\": \"Explain what the type() function does.\"}\n",
    "   ]\n",
    ")\n",
    "\n",
    "print(response['choices'][0]['message']['content'])"
   ]
  }
 ],
 "metadata": {
  "kernelspec": {
   "display_name": "Python 3 (ipykernel)",
   "language": "python",
   "name": "python3"
  },
  "language_info": {
   "codemirror_mode": {
    "name": "ipython",
    "version": 3
   },
   "file_extension": ".py",
   "mimetype": "text/x-python",
   "name": "python",
   "nbconvert_exporter": "python",
   "pygments_lexer": "ipython3",
   "version": "3.9.12"
  }
 },
 "nbformat": 4,
 "nbformat_minor": 5
}
